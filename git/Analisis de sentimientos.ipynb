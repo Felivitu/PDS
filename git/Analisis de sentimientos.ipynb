{
 "cells": [
  {
   "cell_type": "markdown",
   "id": "2ecbf315-9fe3-40f1-9b7e-caf7beb152db",
   "metadata": {},
   "source": [
    "#Analisis de Sentimientos en Español\n",
    "##Utilizando un modelo previamente entrenado con Naive Bayes\n",
    "\n",
    "En este cuaderno se especifica  la implementacion de sentimientos con un modelo pre-entrenado que utiliza por detras Naive Bayes y TFIDF para el preprocesamiento sde texto. Hecho por Feliciano Vitullo: [REFERENCIA](https://github.com/aylliote/senti-py)"
   ]
  },
  {
   "cell_type": "code",
   "execution_count": 6,
   "id": "d8d84172-bf3d-49b4-b90e-f821c314f504",
   "metadata": {},
   "outputs": [
    {
     "name": "stdout",
     "output_type": "stream",
     "text": [
      "Unexpected exception formatting exception. Falling back to standard exception\n"
     ]
    },
    {
     "name": "stderr",
     "output_type": "stream",
     "text": [
      "Traceback (most recent call last):\n",
      "  File \"/home/elvitu/.local/lib/python3.8/site-packages/IPython/core/interactiveshell.py\", line 3508, in run_code\n",
      "    exec(code_obj, self.user_global_ns, self.user_ns)\n",
      "  File \"/tmp/ipykernel_92089/3181953188.py\", line 2, in <module>\n",
      "    from classifier import SentimentClassifier\n",
      "ImportError: cannot import name 'SentimentClassifier' from 'classifier' (/usr/local/lib/python3.8/dist-packages/classifier/__init__.py)\n",
      "\n",
      "During handling of the above exception, another exception occurred:\n",
      "\n",
      "Traceback (most recent call last):\n",
      "  File \"/home/elvitu/.local/lib/python3.8/site-packages/IPython/core/interactiveshell.py\", line 2105, in showtraceback\n",
      "    stb = self.InteractiveTB.structured_traceback(\n",
      "  File \"/home/elvitu/.local/lib/python3.8/site-packages/IPython/core/ultratb.py\", line 1396, in structured_traceback\n",
      "    return FormattedTB.structured_traceback(\n",
      "  File \"/home/elvitu/.local/lib/python3.8/site-packages/IPython/core/ultratb.py\", line 1287, in structured_traceback\n",
      "    return VerboseTB.structured_traceback(\n",
      "  File \"/home/elvitu/.local/lib/python3.8/site-packages/IPython/core/ultratb.py\", line 1140, in structured_traceback\n",
      "    formatted_exception = self.format_exception_as_a_whole(etype, evalue, etb, number_of_lines_of_context,\n",
      "  File \"/home/elvitu/.local/lib/python3.8/site-packages/IPython/core/ultratb.py\", line 1030, in format_exception_as_a_whole\n",
      "    self.get_records(etb, number_of_lines_of_context, tb_offset) if etb else []\n",
      "  File \"/home/elvitu/.local/lib/python3.8/site-packages/IPython/core/ultratb.py\", line 1082, in get_records\n",
      "    style = stack_data.style_with_executing_node(style, self._tb_highlight)\n",
      "  File \"/home/elvitu/.local/lib/python3.8/site-packages/stack_data/core.py\", line 455, in style_with_executing_node\n",
      "    class NewStyle(style):\n",
      "  File \"/usr/lib/python3/dist-packages/pygments/style.py\", line 91, in __new__\n",
      "    ndef[4] = colorformat(styledef[3:])\n",
      "  File \"/usr/lib/python3/dist-packages/pygments/style.py\", line 58, in colorformat\n",
      "    assert False, \"wrong color format %r\" % text\n",
      "AssertionError: wrong color format 'ansiyellow'\n"
     ]
    }
   ],
   "source": [
    "# Importar la libreria\n",
    "from classifier import SentimentClassifier\n",
    "\n",
    "# Instanciar el clasificador, esto puede demorar un poco\n",
    "clf = SentimentClassifier()"
   ]
  },
  {
   "cell_type": "markdown",
   "id": "0f071ee3-a24e-4998-bb9b-d9662002d6a5",
   "metadata": {},
   "source": []
  }
 ],
 "metadata": {
  "kernelspec": {
   "display_name": "Python 3 (ipykernel)",
   "language": "python",
   "name": "python3"
  },
  "language_info": {
   "codemirror_mode": {
    "name": "ipython",
    "version": 3
   },
   "file_extension": ".py",
   "mimetype": "text/x-python",
   "name": "python",
   "nbconvert_exporter": "python",
   "pygments_lexer": "ipython3",
   "version": "3.8.10"
  }
 },
 "nbformat": 4,
 "nbformat_minor": 5
}
