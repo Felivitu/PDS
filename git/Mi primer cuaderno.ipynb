{
 "cells": [
  {
   "cell_type": "markdown",
   "id": "5d1a191b-3614-4247-a9ad-6e1254824feb",
   "metadata": {},
   "source": [
    "# MI primer cuaderno \n",
    "## Este va a ser mi primer cuaderno de Jupyter\n",
    "### Aqui vamos a hacer cosas muy interesantes\n",
    "\n",
    "Entre lo que haremos se encuentra:\n",
    "- Vamos a hacer analisis de sentimientos\n",
    "- Vamos a imprimir *mensajes*\n",
    "- Y muchas cosas **mas**\n",
    "\n",
    "\n",
    "<img src=\"https://images.unsplash.com/photo-1721332149371-fa99da451baa?q=80&w=1472&auto=format&fit=crop&ixlib=rb-4.0.3&ixid=M3wxMjA3fDF8MHxwaG90by1wYWdlfHx8fGVufDB8fHx8fA%3D%3D\" width =\"500\" height=\"500\" style=\"margin-left:auto; margin-right:auto\">\n"
   ]
  },
  {
   "cell_type": "code",
   "execution_count": 8,
   "id": "0f99ee98-53bf-4206-87cc-0d5be2b9a5c3",
   "metadata": {},
   "outputs": [
    {
     "name": "stdout",
     "output_type": "stream",
     "text": [
      "Este es el bloque 1\n"
     ]
    }
   ],
   "source": [
    "print(\"Este es el bloque 1\")\n"
   ]
  },
  {
   "cell_type": "code",
   "execution_count": 7,
   "id": "449a6e8a-e81a-4a2a-b1e3-ab429a62a671",
   "metadata": {},
   "outputs": [
    {
     "name": "stdout",
     "output_type": "stream",
     "text": [
      "Este es el bloque 2\n",
      "variable x is: 10\n"
     ]
    }
   ],
   "source": [
    "print(\"Este es el bloque 2\")\n",
    "print (\"variable x is:\", x)"
   ]
  },
  {
   "cell_type": "code",
   "execution_count": null,
   "id": "5cf9692a-dd61-4518-b90d-ab1008c59f7b",
   "metadata": {},
   "outputs": [],
   "source": []
  }
 ],
 "metadata": {
  "kernelspec": {
   "display_name": "Python 3 (ipykernel)",
   "language": "python",
   "name": "python3"
  },
  "language_info": {
   "codemirror_mode": {
    "name": "ipython",
    "version": 3
   },
   "file_extension": ".py",
   "mimetype": "text/x-python",
   "name": "python",
   "nbconvert_exporter": "python",
   "pygments_lexer": "ipython3",
   "version": "3.8.10"
  }
 },
 "nbformat": 4,
 "nbformat_minor": 5
}
